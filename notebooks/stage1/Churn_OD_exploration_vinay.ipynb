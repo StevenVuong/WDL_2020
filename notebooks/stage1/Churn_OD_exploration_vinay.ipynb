{
 "cells": [
  {
   "cell_type": "code",
   "execution_count": null,
   "metadata": {},
   "outputs": [],
   "source": [
    "import pandas as pd\n",
    "import os\n",
    "import seaborn as sns\n",
    "import matplotlib.pyplot as plt\n"
   ]
  },
  {
   "cell_type": "code",
   "execution_count": null,
   "metadata": {},
   "outputs": [],
   "source": [
    "# build data directory\n",
    "data_dir = '../../data/stage1'\n",
    "os.listdir(data_dir)"
   ]
  },
  {
   "cell_type": "code",
   "execution_count": null,
   "metadata": {},
   "outputs": [],
   "source": [
    "# Load user profiles\n",
    "churn_od_df = pd.read_csv(\n",
    "    os.path.join(data_dir, 'Churn_OD.txt'), \n",
    "    delimiter = \"|\",\n",
    "    encoding = \"ISO-8859-1\"\n",
    ")"
   ]
  },
  {
   "cell_type": "code",
   "execution_count": null,
   "metadata": {},
   "outputs": [],
   "source": [
    "churn_od_df.sort_values(by=['Demand_weight'], ascending = False).head(10)"
   ]
  },
  {
   "cell_type": "code",
   "execution_count": null,
   "metadata": {},
   "outputs": [],
   "source": [
    "#churn_od_df.groupby(['County_of_Origin']).agg({'Demand_weight':'sum'})"
   ]
  },
  {
   "cell_type": "markdown",
   "metadata": {},
   "source": [
    "## What is the most popular route from each county?"
   ]
  },
  {
   "cell_type": "code",
   "execution_count": null,
   "metadata": {},
   "outputs": [],
   "source": [
    "df_max_demand_from = churn_od_df.groupby(['County_of_Origin']).agg({'Demand_weight':'max'})\n",
    "df_max_demand_from = pd.merge(churn_od_df, df_max_demand_from, on=['County_of_Origin', 'Demand_weight'], how = 'inner')\n",
    "df_max_demand_from[['County_of_Origin','County_of_Public_Transportation','Demand_weight']].sort_values(by=['Demand_weight'], ascending = False)"
   ]
  },
  {
   "cell_type": "markdown",
   "metadata": {},
   "source": [
    "## Routes per County"
   ]
  },
  {
   "cell_type": "code",
   "execution_count": null,
   "metadata": {},
   "outputs": [],
   "source": [
    "churn_od_df['County_of_Origin'] = churn_od_df['County_of_Origin'].str.upper()\n",
    "(churn_od_df.groupby('County_of_Public_Transportation')\n",
    "                           .agg({\"County_of_Public_Transportation\": 'count'})\n",
    "                           .rename(columns={'County_of_Public_Transportation': 'number_of_routes'})\n",
    "                           .sort_values(by=['number_of_routes'], ascending = False).head(10))\n",
    "## most routes end at Lisboa followed by Porto\n",
    "## numbers are high as there are multiple perish codes per county. Dont have perish codes for origin"
   ]
  },
  {
   "cell_type": "code",
   "execution_count": null,
   "metadata": {},
   "outputs": [],
   "source": [
    "churn_od_df[churn_od_df['County_of_Public_Transportation'] == 'LISBOA']"
   ]
  },
  {
   "cell_type": "markdown",
   "metadata": {},
   "source": [
    "#### Most routes end in Lisboa and Porto\n"
   ]
  },
  {
   "cell_type": "markdown",
   "metadata": {},
   "source": [
    "## Internal routes"
   ]
  },
  {
   "cell_type": "code",
   "execution_count": null,
   "metadata": {},
   "outputs": [],
   "source": [
    "churn_od_df['County_of_Origin'] = churn_od_df['County_of_Origin'].str.upper()\n",
    "routes_count = (churn_od_df.groupby('County_of_Origin')\n",
    "                           .agg({\"County_of_Origin\": 'count'})\n",
    "                           .rename(columns={'County_of_Origin': 'number_of_routes'})\n",
    "                           .sort_values(by=['number_of_routes'], ascending = False))\n",
    "\n",
    "churn_od_df_internal = churn_od_df[churn_od_df['County_of_Public_Transportation'] == churn_od_df['County_of_Origin']]\n",
    "churn_od_df_internal_agg = (churn_od_df_internal.groupby('County_of_Origin')\n",
    "                    .agg({'County_of_Origin': 'count'})\n",
    "                    .rename(columns={'County_of_Origin': 'number_of_routes_internal'}))\n",
    "            \n",
    "\n",
    "routes_count_final = pd.merge(routes_count, churn_od_df_internal_agg, left_index=True, right_index=True,  how = 'inner')\n",
    "routes_count_final['percentage_of_routes_internal'] = routes_count_final['number_of_routes_internal']/ routes_count_final['number_of_routes']\n",
    "routes_count_final['number_of_routes_external'] =  routes_count_final['number_of_routes'] - routes_count_final['number_of_routes_internal']\n",
    "routes_count_final['percentage_of_routes_external'] =  1-  routes_count_final['percentage_of_routes_internal']\n",
    "routes_count_final"
   ]
  },
  {
   "cell_type": "code",
   "execution_count": null,
   "metadata": {},
   "outputs": [],
   "source": [
    "# can filter out return trips?"
   ]
  },
  {
   "cell_type": "code",
   "execution_count": null,
   "metadata": {},
   "outputs": [],
   "source": [
    "pd.crosstab(churn_od_df.County_of_Origin , churn_od_df.County_of_Public_Transportation )"
   ]
  },
  {
   "cell_type": "code",
   "execution_count": null,
   "metadata": {},
   "outputs": [],
   "source": []
  }
 ],
 "metadata": {
  "kernelspec": {
   "display_name": "Python 3",
   "language": "python",
   "name": "python3"
  },
  "language_info": {
   "codemirror_mode": {
    "name": "ipython",
    "version": 3
   },
   "file_extension": ".py",
   "mimetype": "text/x-python",
   "name": "python",
   "nbconvert_exporter": "python",
   "pygments_lexer": "ipython3",
   "version": "3.7.6"
  }
 },
 "nbformat": 4,
 "nbformat_minor": 4
}
