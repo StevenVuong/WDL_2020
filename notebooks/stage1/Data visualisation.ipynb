{
 "cells": [
  {
   "cell_type": "markdown",
   "metadata": {},
   "source": [
    "###  Steps:\n",
    "- find the changes\n",
    "- find the cause of the changes (may include more data searching)"
   ]
  },
  {
   "cell_type": "code",
   "execution_count": 93,
   "metadata": {},
   "outputs": [],
   "source": [
    "#imports\n",
    "import pandas as pd\n",
    "import numpy as np\n",
    "import matplotlib.pyplot as plt\n",
    "%matplotlib inline\n",
    "\n",
    "pd.set_option(\"max_rows\", 5)"
   ]
  },
  {
   "cell_type": "markdown",
   "metadata": {},
   "source": [
    "### Load data"
   ]
  },
  {
   "cell_type": "code",
   "execution_count": 94,
   "metadata": {},
   "outputs": [
    {
     "name": "stdout",
     "output_type": "stream",
     "text": [
      "Index(['Region_of_Origin', 'District_of_Origin', 'County_of_Origin', 'Period',\n",
      "       'GenderDescription', 'AgeClassDescription', 'Average_BusUsers_per_Day'],\n",
      "      dtype='object')\n"
     ]
    },
    {
     "data": {
      "text/html": [
       "<div>\n",
       "<style scoped>\n",
       "    .dataframe tbody tr th:only-of-type {\n",
       "        vertical-align: middle;\n",
       "    }\n",
       "\n",
       "    .dataframe tbody tr th {\n",
       "        vertical-align: top;\n",
       "    }\n",
       "\n",
       "    .dataframe thead th {\n",
       "        text-align: right;\n",
       "    }\n",
       "</style>\n",
       "<table border=\"1\" class=\"dataframe\">\n",
       "  <thead>\n",
       "    <tr style=\"text-align: right;\">\n",
       "      <th></th>\n",
       "      <th>Region_of_Origin</th>\n",
       "      <th>District_of_Origin</th>\n",
       "      <th>County_of_Origin</th>\n",
       "      <th>Period</th>\n",
       "      <th>GenderDescription</th>\n",
       "      <th>AgeClassDescription</th>\n",
       "      <th>Average_BusUsers_per_Day</th>\n",
       "      <th>log_Average_BusUsers_per_Day</th>\n",
       "    </tr>\n",
       "  </thead>\n",
       "  <tbody>\n",
       "    <tr>\n",
       "      <th>0</th>\n",
       "      <td>R1 - AM Lisboa</td>\n",
       "      <td>Lisboa</td>\n",
       "      <td>Amadora</td>\n",
       "      <td>Sep-19 to Feb-20</td>\n",
       "      <td>Female</td>\n",
       "      <td>15-24</td>\n",
       "      <td>294.194206</td>\n",
       "      <td>2.468634</td>\n",
       "    </tr>\n",
       "    <tr>\n",
       "      <th>1</th>\n",
       "      <td>R1 - AM Lisboa</td>\n",
       "      <td>Lisboa</td>\n",
       "      <td>Amadora</td>\n",
       "      <td>Sep-19 to Feb-20</td>\n",
       "      <td>Female</td>\n",
       "      <td>25-34</td>\n",
       "      <td>1081.652817</td>\n",
       "      <td>3.034088</td>\n",
       "    </tr>\n",
       "    <tr>\n",
       "      <th>...</th>\n",
       "      <td>...</td>\n",
       "      <td>...</td>\n",
       "      <td>...</td>\n",
       "      <td>...</td>\n",
       "      <td>...</td>\n",
       "      <td>...</td>\n",
       "      <td>...</td>\n",
       "      <td>...</td>\n",
       "    </tr>\n",
       "    <tr>\n",
       "      <th>542</th>\n",
       "      <td>R2 - AM Porto</td>\n",
       "      <td>Porto</td>\n",
       "      <td>Vila Nova de Gaia</td>\n",
       "      <td>Sep-20 to Jan-21</td>\n",
       "      <td>Male</td>\n",
       "      <td>45-54</td>\n",
       "      <td>1443.335763</td>\n",
       "      <td>3.159367</td>\n",
       "    </tr>\n",
       "    <tr>\n",
       "      <th>543</th>\n",
       "      <td>R2 - AM Porto</td>\n",
       "      <td>Porto</td>\n",
       "      <td>Vila Nova de Gaia</td>\n",
       "      <td>Sep-20 to Jan-21</td>\n",
       "      <td>Male</td>\n",
       "      <td>55-64</td>\n",
       "      <td>374.627538</td>\n",
       "      <td>2.573600</td>\n",
       "    </tr>\n",
       "  </tbody>\n",
       "</table>\n",
       "<p>544 rows × 8 columns</p>\n",
       "</div>"
      ],
      "text/plain": [
       "    Region_of_Origin District_of_Origin   County_of_Origin            Period  \\\n",
       "0     R1 - AM Lisboa             Lisboa            Amadora  Sep-19 to Feb-20   \n",
       "1     R1 - AM Lisboa             Lisboa            Amadora  Sep-19 to Feb-20   \n",
       "..               ...                ...                ...               ...   \n",
       "542    R2 - AM Porto              Porto  Vila Nova de Gaia  Sep-20 to Jan-21   \n",
       "543    R2 - AM Porto              Porto  Vila Nova de Gaia  Sep-20 to Jan-21   \n",
       "\n",
       "    GenderDescription AgeClassDescription  Average_BusUsers_per_Day  \\\n",
       "0              Female               15-24                294.194206   \n",
       "1              Female               25-34               1081.652817   \n",
       "..                ...                 ...                       ...   \n",
       "542              Male               45-54               1443.335763   \n",
       "543              Male               55-64                374.627538   \n",
       "\n",
       "     log_Average_BusUsers_per_Day  \n",
       "0                        2.468634  \n",
       "1                        3.034088  \n",
       "..                            ...  \n",
       "542                      3.159367  \n",
       "543                      2.573600  \n",
       "\n",
       "[544 rows x 8 columns]"
      ]
     },
     "execution_count": 94,
     "metadata": {},
     "output_type": "execute_result"
    }
   ],
   "source": [
    "df = pd.read_table(\"Churn_UsersProfile.txt\", delimiter='|',encoding ='latin1')\n",
    "print(df.columns)\n",
    "\n",
    "df[\"log_Average_BusUsers_per_Day\"] = np.log10(df[\"Average_BusUsers_per_Day\"])\n",
    "df"
   ]
  },
  {
   "cell_type": "markdown",
   "metadata": {},
   "source": [
    "### Encode Labels with sklearn with for loop"
   ]
  },
  {
   "cell_type": "code",
   "execution_count": 95,
   "metadata": {},
   "outputs": [
    {
     "data": {
      "text/html": [
       "<div>\n",
       "<style scoped>\n",
       "    .dataframe tbody tr th:only-of-type {\n",
       "        vertical-align: middle;\n",
       "    }\n",
       "\n",
       "    .dataframe tbody tr th {\n",
       "        vertical-align: top;\n",
       "    }\n",
       "\n",
       "    .dataframe thead th {\n",
       "        text-align: right;\n",
       "    }\n",
       "</style>\n",
       "<table border=\"1\" class=\"dataframe\">\n",
       "  <thead>\n",
       "    <tr style=\"text-align: right;\">\n",
       "      <th></th>\n",
       "      <th>Region_of_Origin</th>\n",
       "      <th>District_of_Origin</th>\n",
       "      <th>County_of_Origin</th>\n",
       "      <th>Period</th>\n",
       "      <th>GenderDescription</th>\n",
       "      <th>AgeClassDescription</th>\n",
       "      <th>Average_BusUsers_per_Day</th>\n",
       "      <th>log_Average_BusUsers_per_Day</th>\n",
       "      <th>Region_of_Origin_enc</th>\n",
       "      <th>District_of_Origin_enc</th>\n",
       "      <th>County_of_Origin_enc</th>\n",
       "      <th>Period_enc</th>\n",
       "      <th>GenderDescription_enc</th>\n",
       "      <th>AgeClassDescription_enc</th>\n",
       "      <th>Average_BusUsers_per_Day_enc</th>\n",
       "    </tr>\n",
       "  </thead>\n",
       "  <tbody>\n",
       "    <tr>\n",
       "      <th>0</th>\n",
       "      <td>R1 - AM Lisboa</td>\n",
       "      <td>Lisboa</td>\n",
       "      <td>Amadora</td>\n",
       "      <td>Sep-19 to Feb-20</td>\n",
       "      <td>Female</td>\n",
       "      <td>15-24</td>\n",
       "      <td>294.194206</td>\n",
       "      <td>2.468634</td>\n",
       "      <td>0</td>\n",
       "      <td>1</td>\n",
       "      <td>2</td>\n",
       "      <td>0</td>\n",
       "      <td>0</td>\n",
       "      <td>0</td>\n",
       "      <td>198</td>\n",
       "    </tr>\n",
       "    <tr>\n",
       "      <th>1</th>\n",
       "      <td>R1 - AM Lisboa</td>\n",
       "      <td>Lisboa</td>\n",
       "      <td>Amadora</td>\n",
       "      <td>Sep-19 to Feb-20</td>\n",
       "      <td>Female</td>\n",
       "      <td>25-34</td>\n",
       "      <td>1081.652817</td>\n",
       "      <td>3.034088</td>\n",
       "      <td>0</td>\n",
       "      <td>1</td>\n",
       "      <td>2</td>\n",
       "      <td>0</td>\n",
       "      <td>0</td>\n",
       "      <td>1</td>\n",
       "      <td>422</td>\n",
       "    </tr>\n",
       "    <tr>\n",
       "      <th>...</th>\n",
       "      <td>...</td>\n",
       "      <td>...</td>\n",
       "      <td>...</td>\n",
       "      <td>...</td>\n",
       "      <td>...</td>\n",
       "      <td>...</td>\n",
       "      <td>...</td>\n",
       "      <td>...</td>\n",
       "      <td>...</td>\n",
       "      <td>...</td>\n",
       "      <td>...</td>\n",
       "      <td>...</td>\n",
       "      <td>...</td>\n",
       "      <td>...</td>\n",
       "      <td>...</td>\n",
       "    </tr>\n",
       "    <tr>\n",
       "      <th>542</th>\n",
       "      <td>R2 - AM Porto</td>\n",
       "      <td>Porto</td>\n",
       "      <td>Vila Nova de Gaia</td>\n",
       "      <td>Sep-20 to Jan-21</td>\n",
       "      <td>Male</td>\n",
       "      <td>45-54</td>\n",
       "      <td>1443.335763</td>\n",
       "      <td>3.159367</td>\n",
       "      <td>1</td>\n",
       "      <td>2</td>\n",
       "      <td>33</td>\n",
       "      <td>1</td>\n",
       "      <td>1</td>\n",
       "      <td>3</td>\n",
       "      <td>454</td>\n",
       "    </tr>\n",
       "    <tr>\n",
       "      <th>543</th>\n",
       "      <td>R2 - AM Porto</td>\n",
       "      <td>Porto</td>\n",
       "      <td>Vila Nova de Gaia</td>\n",
       "      <td>Sep-20 to Jan-21</td>\n",
       "      <td>Male</td>\n",
       "      <td>55-64</td>\n",
       "      <td>374.627538</td>\n",
       "      <td>2.573600</td>\n",
       "      <td>1</td>\n",
       "      <td>2</td>\n",
       "      <td>33</td>\n",
       "      <td>1</td>\n",
       "      <td>1</td>\n",
       "      <td>4</td>\n",
       "      <td>233</td>\n",
       "    </tr>\n",
       "  </tbody>\n",
       "</table>\n",
       "<p>544 rows × 15 columns</p>\n",
       "</div>"
      ],
      "text/plain": [
       "    Region_of_Origin District_of_Origin   County_of_Origin            Period  \\\n",
       "0     R1 - AM Lisboa             Lisboa            Amadora  Sep-19 to Feb-20   \n",
       "1     R1 - AM Lisboa             Lisboa            Amadora  Sep-19 to Feb-20   \n",
       "..               ...                ...                ...               ...   \n",
       "542    R2 - AM Porto              Porto  Vila Nova de Gaia  Sep-20 to Jan-21   \n",
       "543    R2 - AM Porto              Porto  Vila Nova de Gaia  Sep-20 to Jan-21   \n",
       "\n",
       "    GenderDescription AgeClassDescription  Average_BusUsers_per_Day  \\\n",
       "0              Female               15-24                294.194206   \n",
       "1              Female               25-34               1081.652817   \n",
       "..                ...                 ...                       ...   \n",
       "542              Male               45-54               1443.335763   \n",
       "543              Male               55-64                374.627538   \n",
       "\n",
       "     log_Average_BusUsers_per_Day  Region_of_Origin_enc  \\\n",
       "0                        2.468634                     0   \n",
       "1                        3.034088                     0   \n",
       "..                            ...                   ...   \n",
       "542                      3.159367                     1   \n",
       "543                      2.573600                     1   \n",
       "\n",
       "     District_of_Origin_enc  County_of_Origin_enc  Period_enc  \\\n",
       "0                         1                     2           0   \n",
       "1                         1                     2           0   \n",
       "..                      ...                   ...         ...   \n",
       "542                       2                    33           1   \n",
       "543                       2                    33           1   \n",
       "\n",
       "     GenderDescription_enc  AgeClassDescription_enc  \\\n",
       "0                        0                        0   \n",
       "1                        0                        1   \n",
       "..                     ...                      ...   \n",
       "542                      1                        3   \n",
       "543                      1                        4   \n",
       "\n",
       "     Average_BusUsers_per_Day_enc  \n",
       "0                             198  \n",
       "1                             422  \n",
       "..                            ...  \n",
       "542                           454  \n",
       "543                           233  \n",
       "\n",
       "[544 rows x 15 columns]"
      ]
     },
     "execution_count": 95,
     "metadata": {},
     "output_type": "execute_result"
    }
   ],
   "source": [
    "from sklearn.preprocessing import LabelEncoder\n",
    "df2 = df\n",
    "for i in range(len(df.columns)-1):\n",
    "    #print(i)\n",
    "    enc = LabelEncoder()\n",
    "    enc.fit(df.iloc[:,i]) # get a LabelEncoder encoding for the labels (returns?)\n",
    "    #print(enc.classes_)\n",
    "    newcol_name = df.columns[i]\n",
    "    newcol_name += '_enc'\n",
    "    df2[newcol_name] = enc.transform(df.iloc[:,i])\n",
    "\n",
    "df"
   ]
  },
  {
   "cell_type": "code",
   "execution_count": 96,
   "metadata": {},
   "outputs": [
    {
     "data": {
      "image/png": "[encoded data removed]",
      "text/plain": [
       "<Figure size 432x288 with 1 Axes>"
      ]
     },
     "metadata": {
      "needs_background": "light"
     },
     "output_type": "display_data"
    }
   ],
   "source": [
    "#plt.plot(df[\"Region_of_Origin\"], df[\"Average_BusUsers_per_Day\"], '.')\n",
    "ax = df.boxplot(column='log_Average_BusUsers_per_Day', by='Region_of_Origin', grid=True)"
   ]
  },
  {
   "cell_type": "code",
   "execution_count": 97,
   "metadata": {},
   "outputs": [
    {
     "data": {
      "image/png": "[encoded data removed]",
      "text/plain": [
       "<Figure size 432x288 with 1 Axes>"
      ]
     },
     "metadata": {
      "needs_background": "light"
     },
     "output_type": "display_data"
    }
   ],
   "source": [
    "ax = df.boxplot(column='log_Average_BusUsers_per_Day', by='District_of_Origin', grid=True)"
   ]
  },
  {
   "cell_type": "code",
   "execution_count": 98,
   "metadata": {},
   "outputs": [
    {
     "data": {
      "image/png": "[encoded data removed]",
      "text/plain": [
       "<Figure size 432x288 with 1 Axes>"
      ]
     },
     "metadata": {
      "needs_background": "light"
     },
     "output_type": "display_data"
    }
   ],
   "source": [
    "ax = df.boxplot(column='log_Average_BusUsers_per_Day', by='AgeClassDescription', grid=True)"
   ]
  },
  {
   "cell_type": "code",
   "execution_count": 99,
   "metadata": {},
   "outputs": [
    {
     "data": {
      "image/png": "[encoded data removed]",
      "text/plain": [
       "<Figure size 432x288 with 1 Axes>"
      ]
     },
     "metadata": {
      "needs_background": "light"
     },
     "output_type": "display_data"
    }
   ],
   "source": [
    "ax = df.boxplot(column='log_Average_BusUsers_per_Day', by='GenderDescription', grid=True)"
   ]
  },
  {
   "cell_type": "code",
   "execution_count": 100,
   "metadata": {},
   "outputs": [
    {
     "data": {
      "image/png": "[encoded data removed]",
      "text/plain": [
       "<Figure size 432x288 with 1 Axes>"
      ]
     },
     "metadata": {
      "needs_background": "light"
     },
     "output_type": "display_data"
    }
   ],
   "source": [
    "ax = df.boxplot(column='log_Average_BusUsers_per_Day', by='Period', grid=True)"
   ]
  },
  {
   "cell_type": "code",
   "execution_count": null,
   "metadata": {},
   "outputs": [],
   "source": [
    "#plot a histogram of period\n"
   ]
  },
  {
   "cell_type": "code",
   "execution_count": null,
   "metadata": {},
   "outputs": [],
   "source": []
  }
 ],
 "metadata": {
  "kernelspec": {
   "display_name": "Python 3",
   "language": "python",
   "name": "python3"
  },
  "language_info": {
   "codemirror_mode": {
    "name": "ipython",
    "version": 3
   },
   "file_extension": ".py",
   "mimetype": "text/x-python",
   "name": "python",
   "nbconvert_exporter": "python",
   "pygments_lexer": "ipython3",
   "version": "3.7.1"
  }
 },
 "nbformat": 4,
 "nbformat_minor": 2
}
