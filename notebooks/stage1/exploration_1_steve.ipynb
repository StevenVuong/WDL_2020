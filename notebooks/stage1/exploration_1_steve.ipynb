{
 "cells": [
  {
   "cell_type": "markdown",
   "metadata": {},
   "source": [
    "Goal: Explore Data Provided by WDL on Urban Mobility"
   ]
  },
  {
   "cell_type": "code",
   "execution_count": null,
   "metadata": {
    "scrolled": true
   },
   "outputs": [],
   "source": [
    "# import necessary packages\n",
    "import os\n",
    "import pandas as pd\n",
    "import numpy as np\n",
    "from scipy.special import boxcox1p\n",
    "import seaborn as sns\n",
    "import matplotlib.pyplot as plt\n",
    "\n",
    "import warnings\n",
    "warnings.filterwarnings(\"ignore\")\n",
    "\n",
    "%matplotlib inline"
   ]
  },
  {
   "cell_type": "code",
   "execution_count": null,
   "metadata": {},
   "outputs": [],
   "source": [
    "# build data directory\n",
    "data_dir = '../../data/stage1'\n",
    "os.listdir(data_dir)"
   ]
  },
  {
   "cell_type": "markdown",
   "metadata": {},
   "source": [
    "### 1: Churn User Profile Data\n",
    "We will be examining this first"
   ]
  },
  {
   "cell_type": "code",
   "execution_count": null,
   "metadata": {},
   "outputs": [],
   "source": [
    "# Load user profiles\n",
    "user_profiles_df = pd.read_csv(\n",
    "    os.path.join(data_dir, 'Churn_UsersProfile.txt'), \n",
    "    delimiter = \"|\",\n",
    "    encoding = \"ISO-8859-1\"\n",
    ")"
   ]
  },
  {
   "cell_type": "markdown",
   "metadata": {},
   "source": [
    "#### 1.1: Inspect Data"
   ]
  },
  {
   "cell_type": "code",
   "execution_count": null,
   "metadata": {},
   "outputs": [],
   "source": [
    "# sample some user profiles\n",
    "user_profiles_df.sample(5)"
   ]
  },
  {
   "cell_type": "code",
   "execution_count": null,
   "metadata": {},
   "outputs": [],
   "source": [
    "# No missing data -> Fantastic\n",
    "user_profiles_df.isna().sum()"
   ]
  },
  {
   "cell_type": "code",
   "execution_count": null,
   "metadata": {},
   "outputs": [],
   "source": [
    "user_profiles_df.info()"
   ]
  },
  {
   "cell_type": "code",
   "execution_count": null,
   "metadata": {},
   "outputs": [],
   "source": [
    "# no duplicate rows!\n",
    "user_profiles_df.duplicated().sum()"
   ]
  },
  {
   "cell_type": "markdown",
   "metadata": {},
   "source": [
    "#### 1.2: Basic Data Wrangling\n",
    "-  Make a new column for R1/R2 from Region_of_Origin\n",
    "-  Make a new column for Region of origin anything after `- AM`\n",
    "-  Convert columns to categorical\n",
    "-  Separate period to `period_start`, `period_end` and `period_length`\n",
    "\n",
    "Assumptions:\n",
    "-  Period start is on the first day of the month and up to the final day in the last month"
   ]
  },
  {
   "cell_type": "code",
   "execution_count": null,
   "metadata": {},
   "outputs": [],
   "source": [
    "# make new columns from Region_of_Origin\n",
    "user_profiles_df['origin_region_number'] = user_profiles_df['Region_of_Origin'].str.split(' ').str[0]\n",
    "user_profiles_df['origin_region'] = user_profiles_df['Region_of_Origin'].str.split('- AM',1).str[1]\n",
    "user_profiles_df.drop('Region_of_Origin', axis=1, inplace=True)"
   ]
  },
  {
   "cell_type": "code",
   "execution_count": null,
   "metadata": {},
   "outputs": [],
   "source": [
    "# # split period to period_start and period_end (assume from first day of month to last)\n",
    "# user_profiles_df['period_start'] = user_profiles_df['Period'].str.split('to').str[0]\n",
    "# user_profiles_df['period_end'] = user_profiles_df['Period'].str.split('to',1).str[-1]\n",
    "# user_profiles_df.drop('Period', axis=1, inplace=True)"
   ]
  },
  {
   "cell_type": "code",
   "execution_count": null,
   "metadata": {},
   "outputs": [],
   "source": [
    "# from datetime import datetime, timedelta\n",
    "\n",
    "# user_profiles_df['period_start'] = user_profiles_df['period_start'].apply(lambda x: datetime.strptime(x.strip(), '%b-%y'))\n",
    "# user_profiles_df['period_end'] = user_profiles_df['period_end'].apply(lambda x: datetime.strptime(x.strip(), '%b-%y'))\n",
    "\n",
    "# def last_day_of_month(date):\n",
    "#     if date.month == 12:\n",
    "#         return date.replace(day=31)\n",
    "#     return date.replace(month=date.month+1, day=1) - timedelta(days=1)\n",
    "\n",
    "# user_profiles_df['period_end'] = user_profiles_df['period_end'].apply(last_day_of_month)"
   ]
  },
  {
   "cell_type": "code",
   "execution_count": null,
   "metadata": {},
   "outputs": [],
   "source": [
    "# There are only two periods that we have; seems like wrangling dates wasn't necessary\n",
    "user_profiles_df['Period'].value_counts()"
   ]
  },
  {
   "cell_type": "code",
   "execution_count": null,
   "metadata": {},
   "outputs": [],
   "source": [
    "# convert types to categorical\n",
    "to_cat_cols = ['District_of_Origin','County_of_Origin','Period','GenderDescription','AgeClassDescription','origin_region_number','origin_region']\n",
    "for col in to_cat_cols:\n",
    "    user_profiles_df[col] = user_profiles_df[col].astype('category')"
   ]
  },
  {
   "cell_type": "markdown",
   "metadata": {},
   "source": [
    "#### 1.3: Plots"
   ]
  },
  {
   "cell_type": "code",
   "execution_count": null,
   "metadata": {},
   "outputs": [],
   "source": [
    "# Lineplots of Average Bus Users Per Day\n",
    "fig, (ax1, ax2) = plt.subplots(2, sharex=True, figsize=(8,5))\n",
    "fig.suptitle('Lineplots of Bus Users Per Day')\n",
    "\n",
    "ax1.plot(user_profiles_df['Average_BusUsers_per_Day']);\n",
    "ax1.set(title='Average Bus Users Per Day');\n",
    "\n",
    "ax2.plot(boxcox1p(user_profiles_df['Average_BusUsers_per_Day'], 0.15));\n",
    "ax2.set(title='Boxcox Transforation of Bus Users Per Day');\n",
    "plt.show()"
   ]
  },
  {
   "cell_type": "code",
   "execution_count": null,
   "metadata": {},
   "outputs": [],
   "source": [
    "fig, axs = plt.subplots(3, 1, figsize=(8, 5), constrained_layout=True)\n",
    "fig.suptitle('Histplots of Bus Users Per Day')\n",
    "\n",
    "sns.histplot(user_profiles_df['Average_BusUsers_per_Day'], ax=axs[0]);\n",
    "axs[0].set(title='Histplot of Average Bus Users Per Day');\n",
    "\n",
    "sns.histplot(boxcox1p(user_profiles_df['Average_BusUsers_per_Day'], 0.15), ax=axs[1]);\n",
    "axs[1].set(title='Histplot of Average Bus Users Per Day Boxcox Tfms');\n",
    "\n",
    "sns.histplot(np.log1p(user_profiles_df['Average_BusUsers_per_Day']), ax=axs[2]);\n",
    "axs[2].set(title='Histplot of Average Bus Users Per Day log1p Tfms');\n",
    "plt.show()"
   ]
  },
  {
   "cell_type": "markdown",
   "metadata": {},
   "source": [
    "Looks like applying a log1p transformation transforms the distribution to a normal one; we'll do that and plot with it."
   ]
  },
  {
   "cell_type": "code",
   "execution_count": null,
   "metadata": {},
   "outputs": [],
   "source": [
    "user_profiles_df['log1p_avg_daily_bus_users'] = np.log1p(user_profiles_df['Average_BusUsers_per_Day'])"
   ]
  },
  {
   "cell_type": "code",
   "execution_count": null,
   "metadata": {},
   "outputs": [],
   "source": [
    "plt.figure(figsize=(9,6))\n",
    "sns.boxplot(x='GenderDescription', y='log1p_avg_daily_bus_users',data=user_profiles_df);"
   ]
  },
  {
   "cell_type": "code",
   "execution_count": null,
   "metadata": {},
   "outputs": [],
   "source": [
    "plt.figure(figsize=(9,6))\n",
    "sns.boxplot(x='AgeClassDescription', y='log1p_avg_daily_bus_users',data=user_profiles_df);"
   ]
  },
  {
   "cell_type": "code",
   "execution_count": null,
   "metadata": {},
   "outputs": [],
   "source": [
    "# look at average bus users per day by gender\n",
    "plt.figure(figsize=(9,6))\n",
    "sns.boxplot(x='AgeClassDescription', y='log1p_avg_daily_bus_users', hue='GenderDescription',data=user_profiles_df);"
   ]
  },
  {
   "cell_type": "code",
   "execution_count": null,
   "metadata": {},
   "outputs": [],
   "source": [
    "plt.figure(figsize=(9,6))\n",
    "sns.boxplot(x='Period', y='log1p_avg_daily_bus_users', hue='AgeClassDescription',data=user_profiles_df);"
   ]
  },
  {
   "cell_type": "code",
   "execution_count": null,
   "metadata": {},
   "outputs": [],
   "source": [
    "plt.figure(figsize=(9,6))\n",
    "sns.boxplot(x='origin_region', y='log1p_avg_daily_bus_users', hue='AgeClassDescription',data=user_profiles_df);"
   ]
  },
  {
   "cell_type": "code",
   "execution_count": null,
   "metadata": {},
   "outputs": [],
   "source": [
    "sns.relplot(\n",
    "    y='County_of_Origin', \n",
    "    x='log1p_avg_daily_bus_users', \n",
    "    hue='District_of_Origin', \n",
    "    size='log1p_avg_daily_bus_users',\n",
    "    style='origin_region',\n",
    "    sizes=(15,200),\n",
    "    data=user_profiles_df,\n",
    "    height=8\n",
    ");"
   ]
  },
  {
   "cell_type": "code",
   "execution_count": null,
   "metadata": {},
   "outputs": [],
   "source": [
    "plt.figure(figsize=(9,6))\n",
    "sns.boxplot(x='District_of_Origin', y='log1p_avg_daily_bus_users', hue='AgeClassDescription',data=user_profiles_df);"
   ]
  },
  {
   "cell_type": "code",
   "execution_count": null,
   "metadata": {},
   "outputs": [],
   "source": [
    "plt.figure(figsize=(9,6))\n",
    "sns.boxplot(x='District_of_Origin', y='log1p_avg_daily_bus_users',data=user_profiles_df);"
   ]
  },
  {
   "cell_type": "code",
   "execution_count": null,
   "metadata": {},
   "outputs": [],
   "source": [
    "plt.figure(figsize=(9,6))\n",
    "sns.boxplot(x='District_of_Origin', y='log1p_avg_daily_bus_users', hue='GenderDescription',data=user_profiles_df);"
   ]
  },
  {
   "cell_type": "code",
   "execution_count": null,
   "metadata": {},
   "outputs": [],
   "source": [
    "plt.figure(figsize=(9,6))\n",
    "sns.boxplot(x='AgeClassDescription', y='log1p_avg_daily_bus_users', hue='Period',data=user_profiles_df);"
   ]
  },
  {
   "cell_type": "code",
   "execution_count": null,
   "metadata": {},
   "outputs": [],
   "source": [
    "plt.figure(figsize=(8,15))\n",
    "sns.boxplot(x='log1p_avg_daily_bus_users', y='County_of_Origin', hue='District_of_Origin',data=user_profiles_df, orient='h');"
   ]
  },
  {
   "cell_type": "code",
   "execution_count": null,
   "metadata": {},
   "outputs": [],
   "source": [
    "plt.figure(figsize=(9,6))\n",
    "sns.boxplot(x='GenderDescription', y='log1p_avg_daily_bus_users', hue='Period',data=user_profiles_df);"
   ]
  },
  {
   "cell_type": "code",
   "execution_count": null,
   "metadata": {},
   "outputs": [],
   "source": [
    "plt.figure(figsize=(9,6))\n",
    "sns.boxplot(x='District_of_Origin', y='log1p_avg_daily_bus_users', hue='Period',data=user_profiles_df);"
   ]
  },
  {
   "cell_type": "code",
   "execution_count": null,
   "metadata": {},
   "outputs": [],
   "source": [
    "plt.figure(figsize=(15,20))\n",
    "sns.boxplot(y='County_of_Origin', x='log1p_avg_daily_bus_users', hue='Period',data=user_profiles_df, orient='h');"
   ]
  },
  {
   "cell_type": "markdown",
   "metadata": {},
   "source": [
    "Findings:\n",
    "-  Males and females have similar median, upper and lower ranges however there are more extreme cases for female bus users\n",
    "-  Elderly (65+) have the highest median for usage of busses; middle age (35-44) have the lowest median\n",
    "-  Female middle age have the lowest bus usage in age range (35-44) and slightly higher than males in age range (15-24)\n",
    "-  There were slightly more users from Sep-2020 to Jan 2021 than Sep-19 to Feb-20\n",
    "    -  Slight confusion as Pandemic hit Europe around March 2020? So Sep-20 to Jan-2021 is during the pandemic. Do we discount this information? <br>\n",
    "    Response: Recover some \"normality\"; Sep-19 to Feb-20 is pre-pandemic and after is post pandemic however no longer under national lockdown so there is still some transportation\n",
    "    -  Age demographics remain consistent for both of the time periods; elderly rely heavily on public transport\n",
    "-  Gondomar and Maia have the highest avg_daily_bus_users\n",
    "-  District of Origin makes a big difference; ages within that vary widely too; Aveiro have the lowest number of daily bus users and Famels from Aveiro even lower\n",
    "-  Average daily bus users is down from first period to second period. Perhaps this is due to COVID-19, which is the main suspicion at the moment. Though in theory it should be much lower if it were actually COVID? Issue with the data?\n",
    "-  More people from R2\n",
    "-  Both male and females used less public transport after each period\n",
    "-  Usage of public transportation decreased across districts and county of origins; perhaps we can look at these subsets to investigate what has happened"
   ]
  },
  {
   "cell_type": "markdown",
   "metadata": {},
   "source": [
    "#### 1.4: More Investigating subgroups within each Period (before and After)"
   ]
  },
  {
   "cell_type": "code",
   "execution_count": null,
   "metadata": {},
   "outputs": [],
   "source": [
    "sns.catplot(\n",
    "    y='AgeClassDescription', \n",
    "    x='log1p_avg_daily_bus_users', \n",
    "    hue='Period',\n",
    "    kind='violin',\n",
    "    inner='stick',\n",
    "    split=True,\n",
    "    palette='pastel',\n",
    "    data=user_profiles_df\n",
    ");"
   ]
  },
  {
   "cell_type": "code",
   "execution_count": null,
   "metadata": {},
   "outputs": [],
   "source": [
    "def show_values_on_bars(axs, h_v=\"v\", space=0.4):\n",
    "    '''\n",
    "    https://stackoverflow.com/questions/43214978/seaborn-barplot-displaying-values\n",
    "    '''\n",
    "    def _modify_nan(value, replacement=0.1):\n",
    "        if np.isnan(value):\n",
    "            return replacement\n",
    "        return value\n",
    "    \n",
    "    def _show_on_single_plot(ax):\n",
    "        if h_v == \"v\":\n",
    "            for p in ax.patches:\n",
    "                _x = p.get_x() + p.get_width() / 2\n",
    "                _y = p.get_y() + p.get_height()\n",
    "                value = int(p.get_height())\n",
    "                value = _modify_nan(value)\n",
    "                ax.text(_x, _y, value, ha=\"center\") \n",
    "        elif h_v == \"h\":\n",
    "            for p in ax.patches:\n",
    "                _x = p.get_x() + p.get_width() + float(space)\n",
    "                _y = p.get_y() + p.get_height()\n",
    "                value = round((p.get_width()),2)\n",
    "                value = _modify_nan(value)\n",
    "                ax.text(_x, _y, value, ha=\"left\")\n",
    "\n",
    "    if isinstance(axs, np.ndarray):\n",
    "        for idx, ax in np.ndenumerate(axs):\n",
    "            _show_on_single_plot(ax)\n",
    "    else:\n",
    "        _show_on_single_plot(axs)\n",
    "\n",
    "def facegrid_show_value_bars(g, h_v='v'):\n",
    "    '''\n",
    "    https://stackoverflow.com/questions/41127841/how-to-annotate-bars-in-a-seaborn-facetgrid-works-in-factorplot\n",
    "    '''\n",
    "    for ax in g.axes.ravel():\n",
    "        show_values_on_bars(ax, h_v)\n",
    "    plt.show()"
   ]
  },
  {
   "cell_type": "code",
   "execution_count": null,
   "metadata": {},
   "outputs": [],
   "source": [
    "graph = sns.catplot(\n",
    "    y='AgeClassDescription', \n",
    "    x='log1p_avg_daily_bus_users', \n",
    "    col='Period',\n",
    "    kind='bar',\n",
    "    palette='pastel',\n",
    "    data=user_profiles_df\n",
    ");\n",
    "facegrid_show_value_bars(graph, h_v='h')"
   ]
  },
  {
   "cell_type": "code",
   "execution_count": null,
   "metadata": {},
   "outputs": [],
   "source": [
    "graph = sns.catplot(\n",
    "    y='GenderDescription', \n",
    "    x='log1p_avg_daily_bus_users', \n",
    "    col='Period',\n",
    "    hue='AgeClassDescription',\n",
    "    kind='bar',\n",
    "    palette='pastel',\n",
    "    data=user_profiles_df\n",
    ");\n",
    "facegrid_show_value_bars(graph, h_v='h')"
   ]
  },
  {
   "cell_type": "code",
   "execution_count": null,
   "metadata": {},
   "outputs": [],
   "source": [
    "graph = sns.catplot(\n",
    "    y='District_of_Origin', \n",
    "    x='log1p_avg_daily_bus_users', \n",
    "    col='Period',\n",
    "    kind='bar',\n",
    "    palette='pastel',\n",
    "    data=user_profiles_df\n",
    ");\n",
    "facegrid_show_value_bars(graph, h_v='h')"
   ]
  },
  {
   "cell_type": "code",
   "execution_count": null,
   "metadata": {},
   "outputs": [],
   "source": [
    "graph = sns.catplot(\n",
    "    y='District_of_Origin', \n",
    "    x='log1p_avg_daily_bus_users', \n",
    "    col='Period',\n",
    "    hue='AgeClassDescription',\n",
    "    kind='bar',\n",
    "    palette='pastel',\n",
    "    data=user_profiles_df\n",
    ");\n",
    "facegrid_show_value_bars(graph, h_v='h')"
   ]
  },
  {
   "cell_type": "code",
   "execution_count": null,
   "metadata": {},
   "outputs": [],
   "source": [
    "graph = sns.catplot(\n",
    "    y='County_of_Origin', \n",
    "    x='log1p_avg_daily_bus_users', \n",
    "    col='Period',\n",
    "    kind='bar',\n",
    "    palette='pastel',\n",
    "    data=user_profiles_df,\n",
    "    height=13\n",
    ");\n",
    "facegrid_show_value_bars(graph, h_v='h')"
   ]
  },
  {
   "cell_type": "markdown",
   "metadata": {},
   "source": [
    "Findings:\n",
    "-  Across the board numbers decreased\n",
    "-  55 and Upwards from Aveiro began using public transport in the second period\n",
    "-  People from Arouca, Sao Joao da Madeira and Vale De Cambra began using public transport where there was no usage before\n",
    "-  Very few places increased numbers from before and after; these are the signals we should look for retention\n",
    "-  For all the places that have reported a decrease; we should look to find common trends among them"
   ]
  },
  {
   "cell_type": "code",
   "execution_count": null,
   "metadata": {},
   "outputs": [],
   "source": [
    "# user_profiles_df"
   ]
  },
  {
   "cell_type": "markdown",
   "metadata": {},
   "source": [
    "### 2: Churn Origin-Destination (OD) Data\n",
    "Notes:\n",
    "-  There are no time periods for the churn OD data; would we assume that the routes have not changed across the two different time periods?\n",
    "-  Vinay has done some analysis; primary findings:\n",
    "    -  is that Lisboa is the primary hub with several routes leading into it\n",
    "    -  there are many routes that have the same origin and destination\n",
    "    -  Q: Routes that start in one city and end in another but traverse through intermediary cities; these connect via other routes?"
   ]
  },
  {
   "cell_type": "code",
   "execution_count": null,
   "metadata": {},
   "outputs": [],
   "source": [
    "# Load churn data\n",
    "churn_od_df = pd.read_csv(\n",
    "    os.path.join(data_dir, 'Churn_OD.txt'), \n",
    "    delimiter = \"|\",\n",
    "    encoding = \"ISO-8859-1\"\n",
    ")"
   ]
  },
  {
   "cell_type": "markdown",
   "metadata": {},
   "source": [
    "#### 2.1: Inspect data\n",
    "Notes:\n",
    "-  Origin has region, district, county\n",
    "-  Destination ends in 'of_Public_Transportation'\n",
    "-  'Dicofre_ParishCode_of_Public_Transportation', short for 'DIstrito, COncelho, FREguesia' is the neighbourhood region\n",
    "-  Demand_weight should sum to 1 for each county_origin"
   ]
  },
  {
   "cell_type": "code",
   "execution_count": null,
   "metadata": {},
   "outputs": [],
   "source": [
    "churn_od_df.sample(5)"
   ]
  },
  {
   "cell_type": "code",
   "execution_count": null,
   "metadata": {},
   "outputs": [],
   "source": [
    "# again, no missing data -> fantastic\n",
    "churn_od_df.isna().sum()"
   ]
  },
  {
   "cell_type": "code",
   "execution_count": null,
   "metadata": {},
   "outputs": [],
   "source": [
    "# 2253 rows\n",
    "churn_od_df.info()"
   ]
  },
  {
   "cell_type": "code",
   "execution_count": null,
   "metadata": {},
   "outputs": [],
   "source": [
    "churn_od_df.dtypes"
   ]
  },
  {
   "cell_type": "code",
   "execution_count": null,
   "metadata": {},
   "outputs": [],
   "source": [
    "# no duplicate rows!\n",
    "churn_od_df.duplicated().sum()"
   ]
  },
  {
   "cell_type": "markdown",
   "metadata": {},
   "source": [
    "#### 2.2: Data wrangling\n",
    "Data plots for discovery\n",
    "-  Change naming '_Public_Transportation' to 'Destination'"
   ]
  },
  {
   "cell_type": "code",
   "execution_count": null,
   "metadata": {},
   "outputs": [],
   "source": [
    "# change column titles\n",
    "churn_od_df.columns = churn_od_df.columns.str.replace('_Public_Transportation', '_Destination')"
   ]
  },
  {
   "cell_type": "code",
   "execution_count": null,
   "metadata": {},
   "outputs": [],
   "source": [
    "# plot barplots of each origin/destination\n",
    "for col in churn_od_df.select_dtypes(include='object').columns:\n",
    "    vcs = churn_od_df[col].value_counts()\n",
    "    g = sns.barplot(data=churn_od_df, x=vcs.index.values, y=vcs.values)\n",
    "    plt.title(col)\n",
    "    show_values_on_bars(g)\n",
    "    if 'County' in col:\n",
    "        plt.xticks(rotation=90)\n",
    "    plt.show()"
   ]
  },
  {
   "cell_type": "code",
   "execution_count": null,
   "metadata": {},
   "outputs": [],
   "source": [
    "def move_legend(ax, new_loc, bbox_to_anchor=None, **kws):\n",
    "    '''\n",
    "    https://github.com/mwaskom/seaborn/issues/2280\n",
    "    '''\n",
    "    old_legend = ax.legend_\n",
    "    handles = old_legend.legendHandles\n",
    "    labels = [t.get_text() for t in old_legend.get_texts()]\n",
    "    title = old_legend.get_title().get_text()\n",
    "    if bbox_to_anchor is not None:\n",
    "        ax.legend(handles, labels, loc=new_loc, bbox_to_anchor=bbox_to_anchor, title=title, **kws)\n",
    "    else:\n",
    "        ax.legend(handles, labels, loc=new_loc, title=title, **kws)"
   ]
  },
  {
   "cell_type": "code",
   "execution_count": null,
   "metadata": {},
   "outputs": [],
   "source": [
    "# plot county with hues of district/region for origin/destination\n",
    "fig, ax = plt.subplots(figsize=(12,9))\n",
    "g = sns.histplot(data=churn_od_df, x='County_of_Origin', hue='District_of_Origin', ax=ax)\n",
    "show_values_on_bars(g)\n",
    "ax.tick_params(axis='x', labelrotation=90)\n",
    "move_legend(ax, 'upper right', bbox_to_anchor=(1.15, 1))\n",
    "ax.set_title('County Origins with District Hues');"
   ]
  },
  {
   "cell_type": "code",
   "execution_count": null,
   "metadata": {},
   "outputs": [],
   "source": [
    "# plot county with hues of district/region for origin/destination\n",
    "fig, ax = plt.subplots(figsize=(12,9))\n",
    "g = sns.histplot(data=churn_od_df, x='County_of_Destination', hue='District_of_Destination', ax=ax)\n",
    "show_values_on_bars(g)\n",
    "ax.tick_params(axis='x', labelrotation=90)\n",
    "move_legend(ax, 'upper right', bbox_to_anchor=(1.25, 1))\n",
    "ax.set_title('County Destinations with District Hues');"
   ]
  },
  {
   "cell_type": "code",
   "execution_count": null,
   "metadata": {},
   "outputs": [],
   "source": [
    "churn_od_df['Dicofre_ParishCode_of_Destination'].value_counts()"
   ]
  },
  {
   "cell_type": "markdown",
   "metadata": {},
   "source": [
    "Findings:\n",
    "-  Lisboa is a more popular region of origin\n",
    "-  Porto and Lisboa are close in origin districts, Aveiro is the least popular\n",
    "-  Counties vary quite widely in terms of origin locations; perhaps we can try to find out which counties belong to which districts to see if there's a common trend\n",
    "-  Setubal is not even an origin but exists as a destination district \n",
    "    - TODO: Investigate what links exist there? Are there even transport links that go from there?\n",
    "-  Most popular county is by far Lisboa, rest are dwarfed. Raises multiple questions about travel purposes and so on..\n",
    "-  Aveiro has the least number of counties and one with the lowest number of origin passengers\n",
    "-  Aveiro is not even a district for destination; and setubal has two destinations. Porto has quite a few by count but lisboa by far dominates\n",
    "-  There are 100 parish codes; we will not work with these for now but could be valuable to look at later on."
   ]
  },
  {
   "cell_type": "markdown",
   "metadata": {},
   "source": [
    "#### 2.3: Visualising types of routes (internal v external)"
   ]
  },
  {
   "cell_type": "code",
   "execution_count": null,
   "metadata": {},
   "outputs": [],
   "source": [
    "# breakdown of internal v external routes\n",
    "churn_od_df['County_of_Origin'] = churn_od_df['County_of_Origin'].str.upper()\n",
    "routes_count = (churn_od_df.groupby('County_of_Origin')\n",
    "                           .agg({\"County_of_Origin\": 'count'})\n",
    "                           .rename(columns={'County_of_Origin': 'number_of_routes'})\n",
    "                           .sort_values(by=['number_of_routes'], ascending = False))\n",
    "\n",
    "churn_od_df_internal = churn_od_df[churn_od_df['County_of_Destination'] == churn_od_df['County_of_Origin']]\n",
    "churn_od_df_internal_agg = (churn_od_df_internal.groupby('County_of_Origin')\n",
    "                    .agg({'County_of_Origin': 'count'})\n",
    "                    .rename(columns={'County_of_Origin': 'number_of_routes_internal'}))\n",
    "            \n",
    "\n",
    "routes_count_final = pd.merge(routes_count, churn_od_df_internal_agg, left_index=True, right_index=True,  how = 'inner')\n",
    "routes_count_final['percentage_of_routes_internal'] = routes_count_final['number_of_routes_internal']/ routes_count_final['number_of_routes']\n",
    "routes_count_final['number_of_routes_external'] =  routes_count_final['number_of_routes'] - routes_count_final['number_of_routes_internal']\n",
    "routes_count_final['percentage_of_routes_external'] =  1-  routes_count_final['percentage_of_routes_internal']\n",
    "routes_count_final"
   ]
  },
  {
   "cell_type": "code",
   "execution_count": null,
   "metadata": {},
   "outputs": [],
   "source": [
    "# plot number of internal vs external routes\n",
    "routes_count_final[\n",
    "    ['number_of_routes_internal', 'number_of_routes_external']\n",
    "    ].plot.bar(rot=30, color=['darkgreen', 'crimson'], figsize=(15,10))\n",
    "plt.title('Number of Routes Internal vs External');"
   ]
  },
  {
   "cell_type": "code",
   "execution_count": null,
   "metadata": {},
   "outputs": [],
   "source": [
    "# plot percentage vs external routes\n",
    "routes_count_final[\n",
    "    ['percentage_of_routes_internal', 'percentage_of_routes_external']\n",
    "    ].plot.bar(\n",
    "    rot=30, color=['darkgreen', 'crimson'], figsize=(15,10), stacked=True\n",
    ")\n",
    "plt.title('Percentage of Routes Internal vs External');"
   ]
  },
  {
   "cell_type": "code",
   "execution_count": null,
   "metadata": {},
   "outputs": [],
   "source": [
    "# plot a heatmap\n",
    "fig, ax = plt.subplots(figsize=(14,14))  \n",
    "sns.heatmap(\n",
    "    pd.crosstab(\n",
    "        churn_od_df.County_of_Origin, \n",
    "        churn_od_df.County_of_Destination\n",
    "    ),\n",
    "    annot=True,\n",
    "    cmap='RdYlGn_r', \n",
    "    linewidths=0.5,\n",
    "    ax=ax\n",
    ");"
   ]
  },
  {
   "cell_type": "code",
   "execution_count": null,
   "metadata": {},
   "outputs": [],
   "source": [
    "# finally, parish codes\n",
    "fig, ax = plt.subplots(figsize=(15,25))\n",
    "sns.countplot(\n",
    "    y='Dicofre_ParishCode_of_Destination', \n",
    "    hue='County_of_Destination',\n",
    "    dodge=False,\n",
    "    data=churn_od_df,\n",
    ");\n",
    "move_legend(ax, 'upper right', bbox_to_anchor=(1.25, 1))\n",
    "ax.set_title('Parish Codes for Destinations colored by District Hues');"
   ]
  },
  {
   "cell_type": "markdown",
   "metadata": {},
   "source": [
    "Findings:\n",
    "-  There are far more routes going out than there are going in\n",
    "-  Lisboa has the highest number of routes going in\n",
    "    -  Does this mean all of the other places are going to Lisboa?\n",
    "    -  Pretty much verified by the heatmap.. Perhaps we can build a graph network next but the heatmap depicts what is happening\n",
    "-  Parish codes give us more granularity but we only have the destinations.. Can we get the shapefiles or latitude/longitude of these to map out and understand the network effect of what is happening?"
   ]
  },
  {
   "cell_type": "markdown",
   "metadata": {},
   "source": [
    "#### 2.4 Sankey Diagrams\n",
    "At the county level"
   ]
  },
  {
   "cell_type": "code",
   "execution_count": null,
   "metadata": {},
   "outputs": [],
   "source": [
    "# for plotting sankey diagrams\n",
    "import plotly.graph_objects as go\n",
    "import plotly.express as pex\n",
    "import holoviews as hv"
   ]
  },
  {
   "cell_type": "code",
   "execution_count": null,
   "metadata": {},
   "outputs": [],
   "source": [
    "hv.extension('bokeh')"
   ]
  },
  {
   "cell_type": "code",
   "execution_count": null,
   "metadata": {},
   "outputs": [],
   "source": [
    "origin_destination_county_df = (churn_od_df.groupby(['County_of_Origin','County_of_Destination'])\n",
    "           .agg({'Demand_weight': 'sum'}))\n",
    "origin_destination_county_df = origin_destination_county_df.reset_index()"
   ]
  },
  {
   "cell_type": "code",
   "execution_count": null,
   "metadata": {},
   "outputs": [],
   "source": [
    "origin_destination_county_df['County_of_Destination'] = origin_destination_county_df['County_of_Destination'] + '_1'"
   ]
  },
  {
   "cell_type": "code",
   "execution_count": null,
   "metadata": {},
   "outputs": [],
   "source": [
    "# everythingg\n",
    "hv.Sankey(origin_destination_county_df).options(height=3000)"
   ]
  },
  {
   "cell_type": "code",
   "execution_count": null,
   "metadata": {},
   "outputs": [],
   "source": [
    "# plot county by county\n",
    "for unique_county in origin_destination_county_df['County_of_Origin'].unique():\n",
    "    tmp_df = origin_destination_county_df[origin_destination_county_df['County_of_Origin']==unique_county]\n",
    "    tmp_df = tmp_df[tmp_df['Demand_weight'] > 0.0001]\n",
    "    display(hv.Sankey(tmp_df).options(width=800, height=500))"
   ]
  },
  {
   "cell_type": "markdown",
   "metadata": {},
   "source": [
    "Findings\n",
    "-  Most places go to Lisboa\n",
    "-  Espinho, Gondomar, Maia, Santa Maria De Feira goes to Porto mostly\n",
    "-  There is a strong link between MAIA and Matosinhos\n",
    "-  Many popular routes go to themself, ex. Lisboa\n",
    "-  Big parts of routes often go to themself, ex. Oeiras\n",
    "-  Paredes, Santo Tirso, Valongo is quite evenly split\n",
    "-  Povoa De Varzim as a lot of weighting to Vila Nova De Gaia\n",
    "-  Trofa is split between Porto and Lisboa"
   ]
  },
  {
   "cell_type": "markdown",
   "metadata": {},
   "source": [
    "#### 2.4: Building a Graph Network\n",
    "Numerically assess the hubs/clusters etc.."
   ]
  },
  {
   "cell_type": "code",
   "execution_count": null,
   "metadata": {},
   "outputs": [],
   "source": [
    "import networkx as nx"
   ]
  },
  {
   "cell_type": "code",
   "execution_count": null,
   "metadata": {},
   "outputs": [],
   "source": [
    "churn_od_df"
   ]
  },
  {
   "cell_type": "code",
   "execution_count": null,
   "metadata": {},
   "outputs": [],
   "source": []
  }
 ],
 "metadata": {
  "kernelspec": {
   "display_name": "Python 3",
   "language": "python",
   "name": "python3"
  },
  "language_info": {
   "codemirror_mode": {
    "name": "ipython",
    "version": 3
   },
   "file_extension": ".py",
   "mimetype": "text/x-python",
   "name": "python",
   "nbconvert_exporter": "python",
   "pygments_lexer": "ipython3",
   "version": "3.7.7"
  }
 },
 "nbformat": 4,
 "nbformat_minor": 4
}
