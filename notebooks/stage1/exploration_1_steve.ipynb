{
 "cells": [
  {
   "cell_type": "markdown",
   "metadata": {},
   "source": [
    "Goal: Explore Data Provided by WDL on Urban Mobility"
   ]
  },
  {
   "cell_type": "code",
   "execution_count": null,
   "metadata": {
    "scrolled": true
   },
   "outputs": [],
   "source": [
    "# import necessary packages\n",
    "import os\n",
    "import pandas as pd\n",
    "import numpy as np\n",
    "from scipy.special import boxcox1p\n",
    "import seaborn as sns\n",
    "import matplotlib.pyplot as plt\n",
    "\n",
    "%matplotlib inline"
   ]
  },
  {
   "cell_type": "code",
   "execution_count": null,
   "metadata": {},
   "outputs": [],
   "source": [
    "# build data directory\n",
    "data_dir = '../../data/stage1'\n",
    "os.listdir(data_dir)"
   ]
  },
  {
   "cell_type": "markdown",
   "metadata": {},
   "source": [
    "### 1: Churn User Profile Data\n",
    "We will be examining this first"
   ]
  },
  {
   "cell_type": "code",
   "execution_count": null,
   "metadata": {},
   "outputs": [],
   "source": [
    "# Load user profiles\n",
    "user_profiles_df = pd.read_csv(\n",
    "    os.path.join(data_dir, 'Churn_UsersProfile.txt'), \n",
    "    delimiter = \"|\",\n",
    "    encoding = \"ISO-8859-1\"\n",
    ")"
   ]
  },
  {
   "cell_type": "markdown",
   "metadata": {},
   "source": [
    "#### 1.1: Inspect Data"
   ]
  },
  {
   "cell_type": "code",
   "execution_count": null,
   "metadata": {},
   "outputs": [],
   "source": [
    "# sample some user profiles\n",
    "user_profiles_df.sample(5)"
   ]
  },
  {
   "cell_type": "code",
   "execution_count": null,
   "metadata": {},
   "outputs": [],
   "source": [
    "# No missing data -> Fantastic\n",
    "user_profiles_df.isna().sum()"
   ]
  },
  {
   "cell_type": "code",
   "execution_count": null,
   "metadata": {},
   "outputs": [],
   "source": [
    "user_profiles_df.info()"
   ]
  },
  {
   "cell_type": "markdown",
   "metadata": {},
   "source": [
    "#### 1.2: Basic Data Wrangling\n",
    "-  Make a new column for R1/R2 from Region_of_Origin\n",
    "-  Make a new column for Region of origin anything after `- AM`\n",
    "-  Convert columns to categorical\n",
    "-  Separate period to `period_start`, `period_end` and `period_length`\n",
    "\n",
    "Assumptions:\n",
    "-  Period start is on the first day of the month and up to the final day in the last month"
   ]
  },
  {
   "cell_type": "code",
   "execution_count": null,
   "metadata": {},
   "outputs": [],
   "source": [
    "# make new columns from Region_of_Origin\n",
    "user_profiles_df['origin_region_number'] = user_profiles_df['Region_of_Origin'].str.split(' ').str[0]\n",
    "user_profiles_df['origin_region'] = user_profiles_df['Region_of_Origin'].str.split('- AM',1).str[1]\n",
    "user_profiles_df.drop('Region_of_Origin', axis=1, inplace=True)"
   ]
  },
  {
   "cell_type": "code",
   "execution_count": null,
   "metadata": {},
   "outputs": [],
   "source": [
    "# # split period to period_start and period_end (assume from first day of month to last)\n",
    "# user_profiles_df['period_start'] = user_profiles_df['Period'].str.split('to').str[0]\n",
    "# user_profiles_df['period_end'] = user_profiles_df['Period'].str.split('to',1).str[-1]\n",
    "# user_profiles_df.drop('Period', axis=1, inplace=True)"
   ]
  },
  {
   "cell_type": "code",
   "execution_count": null,
   "metadata": {},
   "outputs": [],
   "source": [
    "# from datetime import datetime, timedelta\n",
    "\n",
    "# user_profiles_df['period_start'] = user_profiles_df['period_start'].apply(lambda x: datetime.strptime(x.strip(), '%b-%y'))\n",
    "# user_profiles_df['period_end'] = user_profiles_df['period_end'].apply(lambda x: datetime.strptime(x.strip(), '%b-%y'))\n",
    "\n",
    "# def last_day_of_month(date):\n",
    "#     if date.month == 12:\n",
    "#         return date.replace(day=31)\n",
    "#     return date.replace(month=date.month+1, day=1) - timedelta(days=1)\n",
    "\n",
    "# user_profiles_df['period_end'] = user_profiles_df['period_end'].apply(last_day_of_month)"
   ]
  },
  {
   "cell_type": "code",
   "execution_count": null,
   "metadata": {},
   "outputs": [],
   "source": [
    "# There are only two periods that we have; seems like wrangling dates wasn't necessary\n",
    "user_profiles_df['Period'].value_counts()"
   ]
  },
  {
   "cell_type": "code",
   "execution_count": null,
   "metadata": {},
   "outputs": [],
   "source": [
    "# convert types to categorical\n",
    "to_cat_cols = ['District_of_Origin','County_of_Origin','Period','GenderDescription','AgeClassDescription','origin_region_number','origin_region']\n",
    "for col in to_cat_cols:\n",
    "    user_profiles_df[col] = user_profiles_df[col].astype('category')"
   ]
  },
  {
   "cell_type": "markdown",
   "metadata": {},
   "source": [
    "#### 1.3: Plots"
   ]
  },
  {
   "cell_type": "code",
   "execution_count": null,
   "metadata": {},
   "outputs": [],
   "source": [
    "# Lineplots of Average Bus Users Per Day\n",
    "fig, (ax1, ax2) = plt.subplots(2, sharex=True, figsize=(8,5))\n",
    "fig.suptitle('Lineplots of Bus Users Per Day')\n",
    "\n",
    "ax1.plot(user_profiles_df['Average_BusUsers_per_Day']);\n",
    "ax1.set(title='Average Bus Users Per Day');\n",
    "\n",
    "ax2.plot(boxcox1p(user_profiles_df['Average_BusUsers_per_Day'], 0.15));\n",
    "ax2.set(title='Boxcox Transforation of Bus Users Per Day');\n",
    "plt.show()"
   ]
  },
  {
   "cell_type": "code",
   "execution_count": null,
   "metadata": {},
   "outputs": [],
   "source": [
    "fig, axs = plt.subplots(3, 1, figsize=(8, 5), constrained_layout=True)\n",
    "fig.suptitle('Histplots of Bus Users Per Day')\n",
    "\n",
    "sns.histplot(user_profiles_df['Average_BusUsers_per_Day'], ax=axs[0]);\n",
    "axs[0].set(title='Histplot of Average Bus Users Per Day');\n",
    "\n",
    "sns.histplot(boxcox1p(user_profiles_df['Average_BusUsers_per_Day'], 0.15), ax=axs[1]);\n",
    "axs[1].set(title='Histplot of Average Bus Users Per Day Boxcox Tfms');\n",
    "\n",
    "sns.histplot(np.log1p(user_profiles_df['Average_BusUsers_per_Day']), ax=axs[2]);\n",
    "axs[2].set(title='Histplot of Average Bus Users Per Day log1p Tfms');\n",
    "plt.show()"
   ]
  },
  {
   "cell_type": "markdown",
   "metadata": {},
   "source": [
    "Looks like applying a log1p transformation transforms the distribution to a normal one; we'll do that and plot with it."
   ]
  },
  {
   "cell_type": "code",
   "execution_count": null,
   "metadata": {},
   "outputs": [],
   "source": [
    "user_profiles_df['log1p_avg_daily_bus_users'] = np.log1p(user_profiles_df['Average_BusUsers_per_Day'])"
   ]
  },
  {
   "cell_type": "code",
   "execution_count": null,
   "metadata": {},
   "outputs": [],
   "source": [
    "plt.figure(figsize=(9,6))\n",
    "sns.boxplot(x='GenderDescription', y='log1p_avg_daily_bus_users',data=user_profiles_df);"
   ]
  },
  {
   "cell_type": "code",
   "execution_count": null,
   "metadata": {},
   "outputs": [],
   "source": [
    "plt.figure(figsize=(9,6))\n",
    "sns.boxplot(x='AgeClassDescription', y='log1p_avg_daily_bus_users',data=user_profiles_df);"
   ]
  },
  {
   "cell_type": "code",
   "execution_count": null,
   "metadata": {},
   "outputs": [],
   "source": [
    "# look at average bus users per day by gender\n",
    "plt.figure(figsize=(9,6))\n",
    "sns.boxplot(x='AgeClassDescription', y='log1p_avg_daily_bus_users', hue='GenderDescription',data=user_profiles_df);"
   ]
  },
  {
   "cell_type": "code",
   "execution_count": null,
   "metadata": {},
   "outputs": [],
   "source": [
    "plt.figure(figsize=(9,6))\n",
    "sns.boxplot(x='Period', y='log1p_avg_daily_bus_users', hue='AgeClassDescription',data=user_profiles_df);"
   ]
  },
  {
   "cell_type": "code",
   "execution_count": null,
   "metadata": {},
   "outputs": [],
   "source": [
    "plt.figure(figsize=(9,6))\n",
    "sns.boxplot(x='origin_region', y='log1p_avg_daily_bus_users', hue='AgeClassDescription',data=user_profiles_df);"
   ]
  },
  {
   "cell_type": "code",
   "execution_count": null,
   "metadata": {},
   "outputs": [],
   "source": [
    "sns.relplot(\n",
    "    y='County_of_Origin', \n",
    "    x='log1p_avg_daily_bus_users', \n",
    "    hue='District_of_Origin', \n",
    "    size='log1p_avg_daily_bus_users',\n",
    "    style='origin_region',\n",
    "    sizes=(15,200),\n",
    "    data=user_profiles_df,\n",
    "    height=8\n",
    ");\n"
   ]
  },
  {
   "cell_type": "code",
   "execution_count": null,
   "metadata": {},
   "outputs": [],
   "source": [
    "plt.figure(figsize=(9,6))\n",
    "sns.boxplot(x='District_of_Origin', y='log1p_avg_daily_bus_users', hue='AgeClassDescription',data=user_profiles_df);"
   ]
  },
  {
   "cell_type": "code",
   "execution_count": null,
   "metadata": {},
   "outputs": [],
   "source": [
    "plt.figure(figsize=(9,6))\n",
    "sns.boxplot(x='District_of_Origin', y='log1p_avg_daily_bus_users',data=user_profiles_df);"
   ]
  },
  {
   "cell_type": "code",
   "execution_count": null,
   "metadata": {},
   "outputs": [],
   "source": [
    "plt.figure(figsize=(9,6))\n",
    "sns.boxplot(x='District_of_Origin', y='log1p_avg_daily_bus_users', hue='GenderDescription',data=user_profiles_df);"
   ]
  },
  {
   "cell_type": "code",
   "execution_count": null,
   "metadata": {},
   "outputs": [],
   "source": [
    "plt.figure(figsize=(9,6))\n",
    "sns.boxplot(x='AgeClassDescription', y='log1p_avg_daily_bus_users', hue='Period',data=user_profiles_df);"
   ]
  },
  {
   "cell_type": "code",
   "execution_count": null,
   "metadata": {},
   "outputs": [],
   "source": [
    "plt.figure(figsize=(8,15))\n",
    "sns.boxplot(x='log1p_avg_daily_bus_users', y='County_of_Origin', hue='District_of_Origin',data=user_profiles_df, orient='h');"
   ]
  },
  {
   "cell_type": "code",
   "execution_count": null,
   "metadata": {},
   "outputs": [],
   "source": [
    "plt.figure(figsize=(9,6))\n",
    "sns.boxplot(x='origin_region_number', y='log1p_avg_daily_bus_users',data=user_profiles_df);"
   ]
  },
  {
   "cell_type": "code",
   "execution_count": null,
   "metadata": {},
   "outputs": [],
   "source": [
    "# pairplot all the categorical data aginst each other\n",
    "# sns.pairplot(\n",
    "#     user_profiles_df,\n",
    "#     vars=to_cat_cols,\n",
    "#     diag_kind='hist',\n",
    "#     corner=True,\n",
    "#     hue='AgeClassDescription'\n",
    "# );"
   ]
  },
  {
   "cell_type": "markdown",
   "metadata": {},
   "source": [
    "Findings:\n",
    "-  Males and females have similar median, upper and lower ranges however there are more extreme cases for female bus users\n",
    "-  Elderly (65+) have the highest median for usage of busses; middle age (35-44) have the lowest median\n",
    "-  Female middle age have the lowest bus usage in age range (35-44) and slightly higher than males in age range (15-24)\n",
    "-  There were slightly more users from Sep-2020 to Jan 2021 than Sep-19 to Feb-20\n",
    "    -  Slight confusion as Pandemic hit Europe around March 2020? So Sep-20 to Jan-2021 is during the pandemic. Do we discount this information?\n",
    "    -  Age demographics remain consistent for both of the time periods; elderly rely heavily on public transport\n",
    "-  Gondomar and Maia have the highest avg_daily_bus_users\n",
    "-  District of Origin makes a big difference; ages within that vary widely too; Aveiro have the lowest number of daily bus users and Famels from Aveiro even lower\n",
    "-  Average daily bus users is down from first period to second period. Perhaps this is due to COVID-19, which is the main suspicion at the moment. Though in theory it should be much lower if it were actually COVID? Issue with the data?\n",
    "-  More people from R2"
   ]
  },
  {
   "cell_type": "code",
   "execution_count": null,
   "metadata": {},
   "outputs": [],
   "source": [
    "user_profiles_df"
   ]
  },
  {
   "cell_type": "code",
   "execution_count": null,
   "metadata": {},
   "outputs": [],
   "source": []
  }
 ],
 "metadata": {
  "kernelspec": {
   "display_name": "Python 3",
   "language": "python",
   "name": "python3"
  },
  "language_info": {
   "codemirror_mode": {
    "name": "ipython",
    "version": 3
   },
   "file_extension": ".py",
   "mimetype": "text/x-python",
   "name": "python",
   "nbconvert_exporter": "python",
   "pygments_lexer": "ipython3",
   "version": "3.7.7"
  }
 },
 "nbformat": 4,
 "nbformat_minor": 4
}
