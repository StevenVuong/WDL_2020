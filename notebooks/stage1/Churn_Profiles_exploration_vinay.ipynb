{
 "cells": [
  {
   "cell_type": "code",
   "execution_count": null,
   "metadata": {},
   "outputs": [],
   "source": [
    "import pandas as pd\n"
   ]
  },
  {
   "cell_type": "code",
   "execution_count": null,
   "metadata": {},
   "outputs": [],
   "source": [
    "df = pd.read_csv('Churn_UsersProfile.txt', delimiter = \"|\")\n",
    "df.head()"
   ]
  },
  {
   "cell_type": "markdown",
   "metadata": {},
   "source": [
    "## Filter for the two periods - do we need to normalise for the extra month on p1? - how?\n",
    "### P2 during pandemic?"
   ]
  },
  {
   "cell_type": "code",
   "execution_count": null,
   "metadata": {},
   "outputs": [],
   "source": [
    "period1 = (df.loc[df['Period'] == 'Sep-19 to Feb-20']\n",
    "             .rename(columns={'Average_BusUsers_per_Day': 'Average_BusUsers_per_Day_p1'})\n",
    "             .drop(columns = ['Period']))\n",
    "period2 = (df.loc[df['Period'] == 'Sep-20 to Jan-21']\n",
    "             .rename(columns={'Average_BusUsers_per_Day': 'Average_BusUsers_per_Day_p2'})\n",
    "             .drop(columns = ['Period']))\n",
    "period2.head(1)"
   ]
  },
  {
   "cell_type": "markdown",
   "metadata": {},
   "source": [
    " ## Join the two period tables to get a side by side view of Average Bus users per day per user profile"
   ]
  },
  {
   "cell_type": "code",
   "execution_count": null,
   "metadata": {},
   "outputs": [],
   "source": [
    "df_merged = pd.merge(period1, period2, on=['Region_of_Origin', 'District_of_Origin', 'County_of_Origin',\n",
    "                                           'GenderDescription', 'AgeClassDescription'])"
   ]
  },
  {
   "cell_type": "code",
   "execution_count": null,
   "metadata": {},
   "outputs": [],
   "source": [
    "df_merged.head(5)"
   ]
  },
  {
   "cell_type": "code",
   "execution_count": null,
   "metadata": {},
   "outputs": [],
   "source": [
    "df_merged['Churn'] = df_merged['Average_BusUsers_per_Day_p2'] - df_merged['Average_BusUsers_per_Day_p1']\n",
    "df_merged['Churn_percent'] = ((df_merged['Average_BusUsers_per_Day_p2'] - df_merged['Average_BusUsers_per_Day_p1'])/ df_merged['Average_BusUsers_per_Day_p1'])*100"
   ]
  },
  {
   "cell_type": "code",
   "execution_count": null,
   "metadata": {},
   "outputs": [],
   "source": [
    "df_merged.sort_values(by=['Churn_percent'], ascending = False).head(10)"
   ]
  },
  {
   "cell_type": "markdown",
   "metadata": {},
   "source": [
    "## Analyse transport use changes for each age group"
   ]
  },
  {
   "cell_type": "code",
   "execution_count": null,
   "metadata": {},
   "outputs": [],
   "source": [
    "df_age_comp = (df_merged.groupby(['AgeClassDescription'])\n",
    "                        .agg({'Average_BusUsers_per_Day_p1': 'sum',\n",
    "                              'Average_BusUsers_per_Day_p2': 'sum'}))\n",
    "\n",
    "df_age_comp['Churn'] = df_age_comp['Average_BusUsers_per_Day_p2'] - df_age_comp['Average_BusUsers_per_Day_p1']\n",
    "df_age_comp['Churn_percent'] = ((df_age_comp['Average_BusUsers_per_Day_p2'] - df_age_comp['Average_BusUsers_per_Day_p1'])/ df_age_comp['Average_BusUsers_per_Day_p1'])*100\n",
    "df_age_comp.head(10)"
   ]
  },
  {
   "cell_type": "code",
   "execution_count": null,
   "metadata": {},
   "outputs": [],
   "source": [
    "df_age_comp_churn = (df_merged.groupby(['AgeClassDescription'])\n",
    "                              .agg({'Churn_percent': 'mean'}))\n",
    "df_age_comp_churn.head(10)"
   ]
  },
  {
   "cell_type": "markdown",
   "metadata": {},
   "source": [
    "## Analyse transport use changes per Region\n"
   ]
  },
  {
   "cell_type": "code",
   "execution_count": null,
   "metadata": {},
   "outputs": [],
   "source": [
    "df_loc_comp = (df_merged.groupby(['Region_of_Origin', 'District_of_Origin','County_of_Origin'])\n",
    "                        .agg({'Average_BusUsers_per_Day_p1': 'sum',\n",
    "                              'Average_BusUsers_per_Day_p2': 'sum'}))\n",
    "\n",
    "df_loc_comp['Churn'] = df_loc_comp['Average_BusUsers_per_Day_p2'] - df_loc_comp['Average_BusUsers_per_Day_p1']\n",
    "df_loc_comp['Churn_percent'] = ((df_loc_comp['Average_BusUsers_per_Day_p2'] - df_loc_comp['Average_BusUsers_per_Day_p1'])/ df_loc_comp['Average_BusUsers_per_Day_p1'])*100\n",
    "#df_loc_comp.head(100)"
   ]
  },
  {
   "cell_type": "code",
   "execution_count": null,
   "metadata": {},
   "outputs": [],
   "source": [
    "df_loc_comp_churn = (df_merged.groupby(['Region_of_Origin', 'District_of_Origin','County_of_Origin'])\n",
    "                        .agg({'Churn_percent': 'mean'}))\n",
    "#df_loc_comp_churn.head(100)"
   ]
  },
  {
   "cell_type": "code",
   "execution_count": null,
   "metadata": {},
   "outputs": [],
   "source": []
  }
 ],
 "metadata": {
  "kernelspec": {
   "display_name": "Python 3",
   "language": "python",
   "name": "python3"
  },
  "language_info": {
   "codemirror_mode": {
    "name": "ipython",
    "version": 3
   },
   "file_extension": ".py",
   "mimetype": "text/x-python",
   "name": "python",
   "nbconvert_exporter": "python",
   "pygments_lexer": "ipython3",
   "version": "3.7.6"
  }
 },
 "nbformat": 4,
 "nbformat_minor": 4
}
